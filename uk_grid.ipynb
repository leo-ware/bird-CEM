{
 "cells": [
  {
   "cell_type": "code",
   "execution_count": 8,
   "metadata": {},
   "outputs": [],
   "source": [
    "import pandas as pd\n",
    "from data_gen import make_grid\n",
    "\n",
    "from sklearn.model_selection import cross_validate\n",
    "from sklearn.metrics import auc\n",
    "from sklearn.linear_model import LogisticRegression, LinearRegression\n",
    "from sklearn.ensemble import RandomForestClassifier, RandomForestRegressor\n",
    "from sklearn.svm import SVC, SVR\n",
    "from sklearn.preprocessing import StandardScaler\n",
    "from sklearn.pipeline import Pipeline"
   ]
  },
  {
   "cell_type": "code",
   "execution_count": 11,
   "metadata": {},
   "outputs": [
    {
     "name": "stdout",
     "output_type": "stream",
     "text": [
      "<class 'pandas.core.frame.DataFrame'>\n",
      "Index: 24311 entries, 0 to 24310\n",
      "Columns: 109 entries, geometry to Aegithalos caudatus\n",
      "dtypes: float64(5), int64(102), object(2)\n",
      "memory usage: 20.4+ MB\n"
     ]
    }
   ],
   "source": [
    "station_data = pd.read_csv('gen_data/station_data.csv', index_col=0)\n",
    "station_data.info()"
   ]
  },
  {
   "cell_type": "markdown",
   "metadata": {},
   "source": [
    "# UK only"
   ]
  },
  {
   "cell_type": "code",
   "execution_count": 17,
   "metadata": {},
   "outputs": [
    {
     "data": {
      "text/plain": [
       "(33, 109)"
      ]
     },
     "execution_count": 17,
     "metadata": {},
     "output_type": "execute_result"
    }
   ],
   "source": [
    "uk_data = station_data[station_data['country'] == 'GB']\n",
    "uk_data.values.shape"
   ]
  },
  {
   "cell_type": "code",
   "execution_count": 15,
   "metadata": {},
   "outputs": [
    {
     "data": {
      "text/plain": [
       "array([nan, 'RU', 'WS', 'US', 'PF', 'CA', 'MX', 'GT', 'SV', 'HN', 'BZ',\n",
       "       'NI', 'CR', 'CU', 'PA', 'PE', 'EC', 'CO', 'CL', 'AR', 'BR', 'HT',\n",
       "       'VE', 'GL', 'DO', 'BO', 'PY', 'GY', 'FK', 'UY', 'SR', 'GF', 'PT',\n",
       "       'IS', 'SN', 'GM', 'EH', 'GW', 'MR', 'GN', 'SL', 'ML', 'LR', 'MA',\n",
       "       'IE', 'CI', 'DZ', 'ES', 'GB', 'BF', 'FR', 'GH', 'TG', 'NE', 'BJ',\n",
       "       'AD', 'NG', 'NL', 'BE', 'NO', 'CH', 'DE', 'IT', 'TN', 'DK', 'GA',\n",
       "       'CM', 'GQ', 'LY', 'AT', 'SE', 'SJ', 'AO', 'CG', 'CD', 'CZ', 'TD',\n",
       "       'HR', 'PL', 'CF', 'SI', 'BA', 'ZA', 'HU', 'SK', 'ME', 'AL', 'RS',\n",
       "       'BW', 'GR', 'MK', 'RO', 'LT', 'LV', 'FI', 'ZM', 'SD', 'UA', 'EE',\n",
       "       'BG', 'BY', 'SS', 'EG', 'ZW', 'TR', 'LS', 'MD', 'TZ', 'BI', 'RW',\n",
       "       'MZ', 'UG', 'SZ', 'MW', 'KE', 'ET', 'PS', 'SA', 'JO', 'IL', 'LB',\n",
       "       'SY', 'ER', 'IQ', 'GE', 'SO', 'DJ', 'MG', 'YE', 'IR', 'AM', 'AZ',\n",
       "       'KW', 'KZ', 'OM', 'AE', 'TM', 'UZ', 'MU', 'PK', 'AF', 'TJ', 'IN',\n",
       "       'TF', 'KG', 'CN', 'LK', 'NP', 'BD', 'MN', 'BT', 'MM', 'ID', 'TH',\n",
       "       'MY', 'LA', 'KH', 'VN', 'AU', 'BN', 'PH', 'TW', 'KP', 'TL', 'KR',\n",
       "       'JP', 'PG', 'SB', 'NC', 'NZ', 'VU', 'FJ'], dtype=object)"
      ]
     },
     "execution_count": 15,
     "metadata": {},
     "output_type": "execute_result"
    }
   ],
   "source": [
    "station_data.country.unique()\n"
   ]
  },
  {
   "cell_type": "markdown",
   "metadata": {},
   "source": []
  }
 ],
 "metadata": {
  "kernelspec": {
   "display_name": "venv",
   "language": "python",
   "name": "python3"
  },
  "language_info": {
   "codemirror_mode": {
    "name": "ipython",
    "version": 3
   },
   "file_extension": ".py",
   "mimetype": "text/x-python",
   "name": "python",
   "nbconvert_exporter": "python",
   "pygments_lexer": "ipython3",
   "version": "3.10.0"
  }
 },
 "nbformat": 4,
 "nbformat_minor": 2
}
