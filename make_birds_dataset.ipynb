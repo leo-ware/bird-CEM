{
 "cells": [
  {
   "cell_type": "markdown",
   "metadata": {},
   "source": [
    "gonna preprocess the birds dataset for easier use"
   ]
  },
  {
   "cell_type": "code",
   "execution_count": 2,
   "metadata": {},
   "outputs": [],
   "source": [
    "import pandas as pd\n",
    "import numpy as np\n",
    "from sklearn.neighbors import KNeighborsRegressor"
   ]
  },
  {
   "cell_type": "code",
   "execution_count": 3,
   "metadata": {},
   "outputs": [
    {
     "name": "stdout",
     "output_type": "stream",
     "text": [
      "<class 'pandas.core.frame.DataFrame'>\n",
      "RangeIndex: 977813 entries, 0 to 977812\n",
      "Data columns (total 50 columns):\n",
      " #   Column                            Non-Null Count   Dtype  \n",
      "---  ------                            --------------   -----  \n",
      " 0   gbifID                            977813 non-null  int64  \n",
      " 1   datasetKey                        977813 non-null  object \n",
      " 2   occurrenceID                      977813 non-null  object \n",
      " 3   kingdom                           977813 non-null  object \n",
      " 4   phylum                            977813 non-null  object \n",
      " 5   class                             977813 non-null  object \n",
      " 6   order                             977813 non-null  object \n",
      " 7   family                            977813 non-null  object \n",
      " 8   genus                             977813 non-null  object \n",
      " 9   species                           977746 non-null  object \n",
      " 10  infraspecificEpithet              0 non-null       float64\n",
      " 11  taxonRank                         977813 non-null  object \n",
      " 12  scientificName                    977813 non-null  object \n",
      " 13  verbatimScientificName            977813 non-null  object \n",
      " 14  verbatimScientificNameAuthorship  0 non-null       float64\n",
      " 15  countryCode                       975455 non-null  object \n",
      " 16  locality                          935993 non-null  object \n",
      " 17  stateProvince                     975053 non-null  object \n",
      " 18  occurrenceStatus                  977813 non-null  object \n",
      " 19  individualCount                   181678 non-null  float64\n",
      " 20  publishingOrgKey                  977813 non-null  object \n",
      " 21  decimalLatitude                   975936 non-null  float64\n",
      " 22  decimalLongitude                  975936 non-null  float64\n",
      " 23  coordinateUncertaintyInMeters     0 non-null       float64\n",
      " 24  coordinatePrecision               0 non-null       float64\n",
      " 25  elevation                         0 non-null       float64\n",
      " 26  elevationAccuracy                 0 non-null       float64\n",
      " 27  depth                             0 non-null       float64\n",
      " 28  depthAccuracy                     0 non-null       float64\n",
      " 29  eventDate                         969674 non-null  object \n",
      " 30  day                               969674 non-null  float64\n",
      " 31  month                             969674 non-null  float64\n",
      " 32  year                              969674 non-null  float64\n",
      " 33  taxonKey                          977813 non-null  int64  \n",
      " 34  speciesKey                        977746 non-null  float64\n",
      " 35  basisOfRecord                     977813 non-null  object \n",
      " 36  institutionCode                   0 non-null       float64\n",
      " 37  collectionCode                    0 non-null       float64\n",
      " 38  catalogNumber                     0 non-null       float64\n",
      " 39  recordNumber                      0 non-null       float64\n",
      " 40  identifiedBy                      0 non-null       float64\n",
      " 41  dateIdentified                    0 non-null       float64\n",
      " 42  license                           977813 non-null  object \n",
      " 43  rightsHolder                      0 non-null       float64\n",
      " 44  recordedBy                        977813 non-null  object \n",
      " 45  typeStatus                        0 non-null       float64\n",
      " 46  establishmentMeans                0 non-null       float64\n",
      " 47  lastInterpreted                   977813 non-null  object \n",
      " 48  mediaType                         0 non-null       float64\n",
      " 49  issue                             975916 non-null  object \n",
      "dtypes: float64(25), int64(2), object(23)\n",
      "memory usage: 373.0+ MB\n"
     ]
    }
   ],
   "source": [
    "birds_full = pd.read_csv('source_data/birds.csv', sep=\"\\t\")\n",
    "birds_full.info()"
   ]
  },
  {
   "cell_type": "code",
   "execution_count": 4,
   "metadata": {},
   "outputs": [
    {
     "name": "stdout",
     "output_type": "stream",
     "text": [
      "<class 'pandas.core.frame.DataFrame'>\n",
      "Index: 926672 entries, 0 to 977812\n",
      "Data columns (total 5 columns):\n",
      " #   Column            Non-Null Count   Dtype  \n",
      "---  ------            --------------   -----  \n",
      " 0   species           926672 non-null  object \n",
      " 1   decimalLatitude   926672 non-null  float64\n",
      " 2   decimalLongitude  926672 non-null  float64\n",
      " 3   countryCode       926672 non-null  object \n",
      " 4   recordedBy        926672 non-null  object \n",
      "dtypes: float64(2), object(3)\n",
      "memory usage: 42.4+ MB\n"
     ]
    }
   ],
   "source": [
    "birds = birds_full[[\"species\", \"decimalLatitude\", \"decimalLongitude\", \"countryCode\", \"year\", \"recordedBy\"]]\n",
    "birds = birds.dropna()\n",
    "birds = birds[birds[\"year\"] >= 2022].drop(\"year\", axis=1)\n",
    "birds.info()"
   ]
  },
  {
   "cell_type": "markdown",
   "metadata": {},
   "source": [
    "# 80/20"
   ]
  },
  {
   "cell_type": "code",
   "execution_count": 5,
   "metadata": {},
   "outputs": [
    {
     "name": "stdout",
     "output_type": "stream",
     "text": [
      ">10000 26\n",
      ">1000 129\n",
      ">100 455\n",
      ">10 1246\n",
      ">1 2991\n"
     ]
    }
   ],
   "source": [
    "spec = birds.groupby(\"species\").size().sort_values(ascending=False)\n",
    "for i in [10000, 1000, 100, 10, 1]:\n",
    "    print(f\">{i}\", spec[spec >= i].count())"
   ]
  },
  {
   "cell_type": "code",
   "execution_count": 6,
   "metadata": {},
   "outputs": [
    {
     "data": {
      "text/plain": [
       "0.7765779045875995"
      ]
     },
     "execution_count": 6,
     "metadata": {},
     "output_type": "execute_result"
    }
   ],
   "source": [
    "(birds.countryCode == \"GB\").sum() / birds.shape[0]"
   ]
  },
  {
   "cell_type": "code",
   "execution_count": 7,
   "metadata": {},
   "outputs": [
    {
     "data": {
      "text/plain": [
       "45"
      ]
     },
     "execution_count": 7,
     "metadata": {},
     "output_type": "execute_result"
    }
   ],
   "source": [
    "top_100_GB = set(birds[birds.countryCode == \"GB\"].groupby(\"species\").size().sort_values(ascending=False).head(100).index)\n",
    "top_100_not_GB = set(birds[birds.countryCode != \"GB\"].groupby(\"species\").size().sort_values(ascending=False).head(100).index)\n",
    "\n",
    "len(top_100_GB & top_100_not_GB)"
   ]
  },
  {
   "cell_type": "code",
   "execution_count": 8,
   "metadata": {},
   "outputs": [],
   "source": [
    "birds_top = birds[birds.species.isin(top_100_GB)]\n",
    "birds_top.to_csv(\"gen_data/birds_top.csv\", index=False)"
   ]
  },
  {
   "cell_type": "code",
   "execution_count": null,
   "metadata": {},
   "outputs": [],
   "source": []
  }
 ],
 "metadata": {
  "kernelspec": {
   "display_name": "venv",
   "language": "python",
   "name": "python3"
  },
  "language_info": {
   "codemirror_mode": {
    "name": "ipython",
    "version": 3
   },
   "file_extension": ".py",
   "mimetype": "text/x-python",
   "name": "python",
   "nbconvert_exporter": "python",
   "pygments_lexer": "ipython3",
   "version": "3.10.0"
  }
 },
 "nbformat": 4,
 "nbformat_minor": 2
}
