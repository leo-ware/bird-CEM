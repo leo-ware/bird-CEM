{
 "cells": [
  {
   "cell_type": "code",
   "execution_count": 134,
   "metadata": {},
   "outputs": [],
   "source": [
    "import pandas as pd\n",
    "import geopandas as gpd\n",
    "from shapely import wkt\n",
    "from shapely.geometry import Point\n",
    "from tqdm import tqdm\n",
    "import matplotlib.pyplot as plt\n",
    "from dataclasses import dataclass\n",
    "from sklearn.neighbors import KDTree"
   ]
  },
  {
   "cell_type": "markdown",
   "metadata": {},
   "source": [
    "# Number of Birds observed in each cell"
   ]
  },
  {
   "cell_type": "code",
   "execution_count": 129,
   "metadata": {},
   "outputs": [],
   "source": [
    "df = pd.read_csv(\"gen_data/temp_covariates.csv\")\n",
    "df.geometry = df.geometry.apply(wkt.loads)\n",
    "\n",
    "longitudes = df.geometry.apply(lambda x: x.x)\n",
    "latitudes = df.geometry.apply(lambda x: x.y)"
   ]
  },
  {
   "cell_type": "code",
   "execution_count": 133,
   "metadata": {},
   "outputs": [
    {
     "data": {
      "text/plain": [
       "array([    0,     1,     2, ..., 24308, 24309, 24310])"
      ]
     },
     "execution_count": 133,
     "metadata": {},
     "output_type": "execute_result"
    }
   ],
   "source": [
    "gen_df = pd.DataFrame({\"longitude\": longitudes, \"latitude\": latitudes})\n",
    "gen_df.index.values"
   ]
  },
  {
   "cell_type": "code",
   "execution_count": 144,
   "metadata": {},
   "outputs": [
    {
     "name": "stdout",
     "output_type": "stream",
     "text": [
      "[[10816]\n",
      " [ 9975]]\n"
     ]
    },
    {
     "data": {
      "text/plain": [
       "(10.5, 14.5)"
      ]
     },
     "execution_count": 144,
     "metadata": {},
     "output_type": "execute_result"
    }
   ],
   "source": [
    "tree = KDTree(gen_df[[\"latitude\", \"longitude\"]].values, leaf_size=2)\n",
    "index = tree.query([[10, 15], [9, 5]], k=1, return_distance=False)\n",
    "print(index)\n",
    "latitudes[index[0][0]], longitudes[index[0][0]]"
   ]
  },
  {
   "cell_type": "markdown",
   "metadata": {},
   "source": [
    "# Get Country Label For Each Cell"
   ]
  },
  {
   "cell_type": "code",
   "execution_count": 78,
   "metadata": {},
   "outputs": [
    {
     "data": {
      "text/html": [
       "<div>\n",
       "<style scoped>\n",
       "    .dataframe tbody tr th:only-of-type {\n",
       "        vertical-align: middle;\n",
       "    }\n",
       "\n",
       "    .dataframe tbody tr th {\n",
       "        vertical-align: top;\n",
       "    }\n",
       "\n",
       "    .dataframe thead th {\n",
       "        text-align: right;\n",
       "    }\n",
       "</style>\n",
       "<table border=\"1\" class=\"dataframe\">\n",
       "  <thead>\n",
       "    <tr style=\"text-align: right;\">\n",
       "      <th></th>\n",
       "      <th>geo_point_2d</th>\n",
       "      <th>iso3</th>\n",
       "      <th>status</th>\n",
       "      <th>color_code</th>\n",
       "      <th>name</th>\n",
       "      <th>continent</th>\n",
       "      <th>region</th>\n",
       "      <th>iso_3166_1_alpha_2_codes</th>\n",
       "      <th>french_short</th>\n",
       "      <th>geometry</th>\n",
       "    </tr>\n",
       "  </thead>\n",
       "  <tbody>\n",
       "    <tr>\n",
       "      <th>0</th>\n",
       "      <td>{'lon': 32.38621827281175, 'lat': 1.2799634451...</td>\n",
       "      <td>UGA</td>\n",
       "      <td>Member State</td>\n",
       "      <td>UGA</td>\n",
       "      <td>Uganda</td>\n",
       "      <td>Africa</td>\n",
       "      <td>Eastern Africa</td>\n",
       "      <td>UG</td>\n",
       "      <td>Ouganda</td>\n",
       "      <td>POLYGON ((33.92110 -1.00194, 33.92027 -1.00111...</td>\n",
       "    </tr>\n",
       "    <tr>\n",
       "      <th>1</th>\n",
       "      <td>{'lon': 63.169364370421164, 'lat': 41.75044402...</td>\n",
       "      <td>UZB</td>\n",
       "      <td>Member State</td>\n",
       "      <td>UZB</td>\n",
       "      <td>Uzbekistan</td>\n",
       "      <td>Asia</td>\n",
       "      <td>Central Asia</td>\n",
       "      <td>UZ</td>\n",
       "      <td>Ouzbékistan</td>\n",
       "      <td>POLYGON ((70.97081 42.25467, 70.98054 42.26205...</td>\n",
       "    </tr>\n",
       "    <tr>\n",
       "      <th>2</th>\n",
       "      <td>{'lon': -8.150578960214018, 'lat': 53.17638162...</td>\n",
       "      <td>IRL</td>\n",
       "      <td>Member State</td>\n",
       "      <td>IRL</td>\n",
       "      <td>Ireland</td>\n",
       "      <td>Europe</td>\n",
       "      <td>Northern Europe</td>\n",
       "      <td>IE</td>\n",
       "      <td>Irlande</td>\n",
       "      <td>MULTIPOLYGON (((-9.97014 54.02083, -9.93833 53...</td>\n",
       "    </tr>\n",
       "    <tr>\n",
       "      <th>3</th>\n",
       "      <td>{'lon': 38.84128573461554, 'lat': 15.373203130...</td>\n",
       "      <td>ERI</td>\n",
       "      <td>Member State</td>\n",
       "      <td>ERI</td>\n",
       "      <td>Eritrea</td>\n",
       "      <td>Africa</td>\n",
       "      <td>Eastern Africa</td>\n",
       "      <td>ER</td>\n",
       "      <td>Érythrée</td>\n",
       "      <td>MULTIPOLYGON (((40.13583 15.75250, 40.12861 15...</td>\n",
       "    </tr>\n",
       "    <tr>\n",
       "      <th>4</th>\n",
       "      <td>{'lon': -36.38236149455586, 'lat': -54.4881509...</td>\n",
       "      <td>None</td>\n",
       "      <td>UK Territory</td>\n",
       "      <td>GBR</td>\n",
       "      <td>South Georgia &amp; the South Sandwich Islands</td>\n",
       "      <td>Antarctica</td>\n",
       "      <td>None</td>\n",
       "      <td>None</td>\n",
       "      <td>South Georgia &amp; the South Sandwich Islands</td>\n",
       "      <td>MULTIPOLYGON (((-26.24361 -58.49473, -26.24889...</td>\n",
       "    </tr>\n",
       "  </tbody>\n",
       "</table>\n",
       "</div>"
      ],
      "text/plain": [
       "                                        geo_point_2d  iso3        status  \\\n",
       "0  {'lon': 32.38621827281175, 'lat': 1.2799634451...   UGA  Member State   \n",
       "1  {'lon': 63.169364370421164, 'lat': 41.75044402...   UZB  Member State   \n",
       "2  {'lon': -8.150578960214018, 'lat': 53.17638162...   IRL  Member State   \n",
       "3  {'lon': 38.84128573461554, 'lat': 15.373203130...   ERI  Member State   \n",
       "4  {'lon': -36.38236149455586, 'lat': -54.4881509...  None  UK Territory   \n",
       "\n",
       "  color_code                                        name   continent  \\\n",
       "0        UGA                                      Uganda      Africa   \n",
       "1        UZB                                  Uzbekistan        Asia   \n",
       "2        IRL                                     Ireland      Europe   \n",
       "3        ERI                                     Eritrea      Africa   \n",
       "4        GBR  South Georgia & the South Sandwich Islands  Antarctica   \n",
       "\n",
       "            region iso_3166_1_alpha_2_codes  \\\n",
       "0   Eastern Africa                       UG   \n",
       "1     Central Asia                       UZ   \n",
       "2  Northern Europe                       IE   \n",
       "3   Eastern Africa                       ER   \n",
       "4             None                     None   \n",
       "\n",
       "                                 french_short  \\\n",
       "0                                     Ouganda   \n",
       "1                                 Ouzbékistan   \n",
       "2                                     Irlande   \n",
       "3                                    Érythrée   \n",
       "4  South Georgia & the South Sandwich Islands   \n",
       "\n",
       "                                            geometry  \n",
       "0  POLYGON ((33.92110 -1.00194, 33.92027 -1.00111...  \n",
       "1  POLYGON ((70.97081 42.25467, 70.98054 42.26205...  \n",
       "2  MULTIPOLYGON (((-9.97014 54.02083, -9.93833 53...  \n",
       "3  MULTIPOLYGON (((40.13583 15.75250, 40.12861 15...  \n",
       "4  MULTIPOLYGON (((-26.24361 -58.49473, -26.24889...  "
      ]
     },
     "execution_count": 78,
     "metadata": {},
     "output_type": "execute_result"
    }
   ],
   "source": [
    "world = gpd.read_file(\"source_data/world-administrative-boundaries.geojson\")\n",
    "world.head(5)"
   ]
  },
  {
   "cell_type": "code",
   "execution_count": 124,
   "metadata": {},
   "outputs": [],
   "source": [
    "@dataclass(frozen=True)\n",
    "class Country:\n",
    "    geometry: None\n",
    "    code: None\n",
    "\n",
    "    def __hash__(self):\n",
    "        return hash(self.code)\n",
    "\n",
    "countries = []\n",
    "for code, geometry in zip(world.iso_3166_1_alpha_2_codes, world.geometry):\n",
    "    countries.append(Country(geometry, code))"
   ]
  },
  {
   "cell_type": "code",
   "execution_count": 127,
   "metadata": {},
   "outputs": [
    {
     "name": "stderr",
     "output_type": "stream",
     "text": [
      "  0%|          | 0/24311 [00:00<?, ?it/s]"
     ]
    },
    {
     "name": "stderr",
     "output_type": "stream",
     "text": [
      "100%|██████████| 24311/24311 [03:38<00:00, 111.23it/s]\n"
     ]
    }
   ],
   "source": [
    "by_count = {0: set(countries)}\n",
    "\n",
    "codes = []\n",
    "for lon, lat in tqdm(list(zip(longitudes, latitudes))):\n",
    "    located = False\n",
    "    for score in reversed(sorted(by_count.keys())):\n",
    "        for country in by_count[score]:\n",
    "            if country.geometry.contains(Point(lon, lat)):\n",
    "                codes.append(country.code)\n",
    "                located = True\n",
    "                by_count[score].remove(country)\n",
    "                if score + 1 not in by_count:\n",
    "                    by_count[score + 1] = set()\n",
    "                by_count[score + 1].add(country)\n",
    "                break\n",
    "        \n",
    "        if located:\n",
    "            break\n",
    "    \n",
    "    if not located:\n",
    "        codes.append(None)"
   ]
  },
  {
   "cell_type": "code",
   "execution_count": 128,
   "metadata": {},
   "outputs": [],
   "source": [
    "new_df = pd.DataFrame()\n",
    "new_df[\"latitude\"] = latitudes\n",
    "new_df[\"longitude\"] = longitudes\n",
    "new_df[\"country_code\"] = codes\n",
    "new_df.to_csv(\"gen_data/grid_country_codes.csv\", index=False)"
   ]
  },
  {
   "cell_type": "markdown",
   "metadata": {},
   "source": []
  }
 ],
 "metadata": {
  "kernelspec": {
   "display_name": "venv",
   "language": "python",
   "name": "python3"
  },
  "language_info": {
   "codemirror_mode": {
    "name": "ipython",
    "version": 3
   },
   "file_extension": ".py",
   "mimetype": "text/x-python",
   "name": "python",
   "nbconvert_exporter": "python",
   "pygments_lexer": "ipython3",
   "version": "3.10.0"
  }
 },
 "nbformat": 4,
 "nbformat_minor": 2
}
